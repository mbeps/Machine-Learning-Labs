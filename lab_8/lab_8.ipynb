{
 "cells": [
  {
   "cell_type": "markdown",
   "metadata": {},
   "source": [
    "# Code"
   ]
  },
  {
   "cell_type": "markdown",
   "metadata": {},
   "source": [
    "# Revision Questions"
   ]
  },
  {
   "cell_type": "markdown",
   "metadata": {},
   "source": [
    "## Question 1\n",
    "What is the model for neural networks? You may assume that the number of hidden layers is 2. Describe its parameters."
   ]
  },
  {
   "cell_type": "markdown",
   "metadata": {},
   "source": [
    "```\n",
    "h[0] := tanh(w [0, 0]x [0] + w [0, 1]x [1] + w [0, 2]x [2] + w [0, 3]x [3] + b[0])\n",
    "h[1] := tanh(w [1, 0]x [0] + w [1, 1]x [1] + w [1, 2]x [2] + w [1, 3]x [3] + b[1])\n",
    "h[2] := tanh(w [2, 0]x [0] + w [2, 1]x [1] + w [2, 2]x [2] + w [2, 3]x [3] + b[2])\n",
    "ŷ := v [0]h[0] + v [1]h[1] + v [2]h[2] + b\n",
    "```\n",
    "- Mostly a linear model however it is non-linear as it contains a non-linear activation function $tanh$"
   ]
  },
  {
   "cell_type": "markdown",
   "metadata": {},
   "source": [
    "## Question 2\n",
    "Give an advantage and three disadvantages of neural networks."
   ]
  },
  {
   "cell_type": "markdown",
   "metadata": {},
   "source": [
    "**Advantages**\n",
    "- Neural networks are able to capture information contained in large amounts of data and build incredibly complex models.\n",
    "\n",
    "**Disadvantage**\n",
    "- Take a long time to train\n",
    "- They required very careful preprocessing\n",
    "- They work best with homogeneous data (similar features)"
   ]
  },
  {
   "cell_type": "markdown",
   "metadata": {},
   "source": [
    "## Question 3\n",
    "What is a linear scoring function? How can it be used for classifying test samples into positive and negative?"
   ]
  },
  {
   "cell_type": "markdown",
   "metadata": {},
   "source": [
    "- **Scoring Function** -  a function that maps the input data to a real-valued output. The output of the scoring function is used to determine the class label of the input data\n",
    "- The output of the scoring function can be used to classify samples into positive and negative:\n",
    "  - If the output of the scoring function is greater than 0, the sample is classified as positive\n",
    "  - If the output of the scoring function is less than 0, the sample is classified as negative"
   ]
  },
  {
   "cell_type": "markdown",
   "metadata": {},
   "source": [
    "## Question 4\n",
    "Suppose we have a linear scoring function with parameters $b = −1$ and $w = (−2, 1, 0, 3)$. The test sample is $x* = (0, 2, −1, 1)$. Calculate the predicted label for $x*$ ."
   ]
  },
  {
   "cell_type": "markdown",
   "metadata": {},
   "source": [
    "$b.x*=((-2)(0))+((1)(2))+((0)(-1))+((3)(1))=5$\n",
    "\n",
    "$5-1=4>0$\n",
    "- The sample is classified as positive"
   ]
  },
  {
   "cell_type": "markdown",
   "metadata": {},
   "source": [
    "## Question 5\n",
    "How would you interpret the magnitude of a linear scoring function?"
   ]
  },
  {
   "cell_type": "markdown",
   "metadata": {},
   "source": [
    "- If $f(x*)$ is far from $0$, then $x*$ lies far from the hyperplane hence it is a good assignment\n",
    "- If $f(x*)$ is close to $0$, then $x*$ lies close to the hyperplane hence it is not a good assignment"
   ]
  },
  {
   "cell_type": "markdown",
   "metadata": {},
   "source": [
    "## Question 6\n",
    "What is the margin of a given separating hyperplane?"
   ]
  },
  {
   "cell_type": "markdown",
   "metadata": {},
   "source": [
    "- **Margin** - the shortest perpendicular distance between each sample and the hyperplane "
   ]
  },
  {
   "cell_type": "markdown",
   "metadata": {},
   "source": [
    "## Question 7\n",
    "Define the maximum margin classifier."
   ]
  },
  {
   "cell_type": "markdown",
   "metadata": {},
   "source": [
    "- **Maximum Margin Hyperplane** - the separating hyperplane for which the margin is largest.\n",
    "- **Maximum Margin Classifier** - classify a test sample based on which side of the maximum margin hyperplane it lies on"
   ]
  },
  {
   "cell_type": "markdown",
   "metadata": {},
   "source": [
    "## Question 8\n",
    "What is meant by the optimal separating hyperplane?"
   ]
  },
  {
   "cell_type": "markdown",
   "metadata": {},
   "source": [
    "- **Optimal Separating Hyperplane** is the same as *maximum margin hyperplane*"
   ]
  },
  {
   "cell_type": "markdown",
   "metadata": {},
   "source": [
    "## Question 9\n",
    "How is the optimal separating hyperplane used for classification?"
   ]
  },
  {
   "cell_type": "markdown",
   "metadata": {},
   "source": [
    "- The optimal separating hyperplane is used to classify data samples by maximizing the margin between the positive and negative samples\n",
    "- The optimal separating hyperplane is the line that bisects the two classes of data samples and has the maximum margin."
   ]
  },
  {
   "cell_type": "markdown",
   "metadata": {},
   "source": [
    "## Question 10\n",
    "Define the notion of a support vector in the context of maximum margin classifiers."
   ]
  },
  {
   "cell_type": "markdown",
   "metadata": {},
   "source": [
    "- **Support Vector** - the vectors from each class which are the at the limit and are used to create the `slab`"
   ]
  }
 ],
 "metadata": {
  "kernelspec": {
   "display_name": "Python 3.11.0 ('anaconda-pOKeClin-py3.11')",
   "language": "python",
   "name": "python3"
  },
  "language_info": {
   "name": "python",
   "version": "3.11.0"
  },
  "orig_nbformat": 4,
  "vscode": {
   "interpreter": {
    "hash": "892714c652f493a6d49359491524d2a8c982297775bb9a8664a3f7cea223b623"
   }
  }
 },
 "nbformat": 4,
 "nbformat_minor": 2
}
