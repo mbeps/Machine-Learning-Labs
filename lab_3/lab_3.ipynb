{
 "cells": [
  {
   "cell_type": "markdown",
   "metadata": {},
   "source": [
    "# Code"
   ]
  },
  {
   "cell_type": "markdown",
   "metadata": {},
   "source": [
    "## Reading Data"
   ]
  },
  {
   "cell_type": "code",
   "execution_count": null,
   "metadata": {},
   "outputs": [],
   "source": [
    "import numpy as np"
   ]
  },
  {
   "cell_type": "markdown",
   "metadata": {},
   "source": [
    "### Loading Data from File"
   ]
  },
  {
   "cell_type": "code",
   "execution_count": null,
   "metadata": {},
   "outputs": [],
   "source": [
    "X = np.genfromtxt(\"ionosphere.txt\", delimiter=\",\") # load data from file "
   ]
  },
  {
   "cell_type": "code",
   "execution_count": null,
   "metadata": {},
   "outputs": [],
   "source": [
    "print(X[:3])"
   ]
  },
  {
   "cell_type": "markdown",
   "metadata": {},
   "source": [
    "### Extracting Data"
   ]
  },
  {
   "cell_type": "markdown",
   "metadata": {},
   "source": [
    "- `delimiter` defines the string to be used for separating values\n",
    "- Default `delimiter` of spaces is not used, but rather a comma `,` is used instead\n",
    "- `usecols` Which columns to read, with 0 being the first \n",
    "  - For example, `usecols = (1, 4, 5)` will extract the 2nd, 5th and 6th columns.\n",
    "  - `np.arrange(34)` creates a list (similar to list comprehension) up to 33\n",
    "  - This means that all the columns up to 33 will be extracted\n",
    "  - This is because the number of features (dependent variable vector) is 34"
   ]
  },
  {
   "cell_type": "code",
   "execution_count": null,
   "metadata": {},
   "outputs": [],
   "source": [
    "X = np.genfromtxt(\"ionosphere.txt\", delimiter=\",\", usecols = np.arange(34)) # load data from file "
   ]
  },
  {
   "cell_type": "markdown",
   "metadata": {},
   "source": [
    "- Now that the labels are extracted, they can be stored in the variable `y` which represents the labels (dependent variable vector)\n",
    "- `dtype` of `int` specifies that the data to be stored needs to be integer"
   ]
  },
  {
   "cell_type": "code",
   "execution_count": null,
   "metadata": {},
   "outputs": [],
   "source": [
    "y = np.genfromtxt(\"ionosphere.txt\", delimiter=\",\", usecols = np.arange(34), dtype='int') # load data from file "
   ]
  },
  {
   "cell_type": "code",
   "execution_count": null,
   "metadata": {},
   "outputs": [],
   "source": [
    "print(y)"
   ]
  },
  {
   "cell_type": "markdown",
   "metadata": {},
   "source": [
    "## Concatenating "
   ]
  },
  {
   "cell_type": "code",
   "execution_count": null,
   "metadata": {},
   "outputs": [],
   "source": [
    "a = np.array([1, 2, 3])\n",
    "b = np.array([4, 5,])"
   ]
  },
  {
   "cell_type": "markdown",
   "metadata": {},
   "source": [
    "- `np.concatenate()` concatenates 2 sequences together\n",
    "- It only takes on argument for simple concatenations, a tuple containing the sequences to be concatenated\n",
    "  - This is not Pythonic design as it it possible to pass multiple arguments per parameter using tuple unpacking (`*args`)"
   ]
  },
  {
   "cell_type": "code",
   "execution_count": null,
   "metadata": {},
   "outputs": [],
   "source": [
    "np.concatenate((a, b))"
   ]
  },
  {
   "cell_type": "markdown",
   "metadata": {},
   "source": [
    "- Checking if list comprehension is the same as `np.arange()` which is true\n",
    "- `np.arange()` generated an array, in this case to `10 ^ 6`"
   ]
  },
  {
   "cell_type": "code",
   "execution_count": null,
   "metadata": {},
   "outputs": [],
   "source": [
    "print([x for x in range(10 ** 6)] in np.arange(10 ** 6))"
   ]
  },
  {
   "cell_type": "markdown",
   "metadata": {},
   "source": [
    "- `np.array([4])` creates an array with the single element 4 in it"
   ]
  },
  {
   "cell_type": "code",
   "execution_count": null,
   "metadata": {},
   "outputs": [],
   "source": [
    "print(np.array([4]))"
   ]
  },
  {
   "cell_type": "markdown",
   "metadata": {},
   "source": [
    "- 2 arrays, `np.arange(10 ** 6)` and `np.array([4])` are concatenated together"
   ]
  },
  {
   "cell_type": "code",
   "execution_count": null,
   "metadata": {},
   "outputs": [],
   "source": [
    "my_array = np.concatenate((np.arange(10 ** 6), np.array([4])))"
   ]
  },
  {
   "cell_type": "markdown",
   "metadata": {},
   "source": [
    "## Computing Minimum"
   ]
  },
  {
   "cell_type": "markdown",
   "metadata": {},
   "source": [
    "- The Nearest Neighbour method depends on the ability to compute the minimum of an array of real numbers\n",
    "- In evaluating conformal predictors you may need to compute the largest p-value"
   ]
  },
  {
   "cell_type": "code",
   "execution_count": null,
   "metadata": {},
   "outputs": [],
   "source": [
    "import math"
   ]
  },
  {
   "cell_type": "markdown",
   "metadata": {},
   "source": [
    "- `math.inf` is infinity\n",
    "- Infinity is the initial value of the minimum until something smaller/closer is found\n",
    "- For each element in the index, the current element is compared with the current minimum\n",
    "- If the current element is smaller/closer than the current minimum, then the current element becomes the new minimum\n",
    "- This process is repeated for the entire list"
   ]
  },
  {
   "cell_type": "code",
   "execution_count": null,
   "metadata": {},
   "outputs": [],
   "source": [
    "current_minimum = math.inf # infinity\n",
    "for index, element in enumerate(my_array): # iterate over array\n",
    "\tif current_minimum > element: # check if current element is smaller than current minimum\n",
    "\t\tcurrent_minimum = element # update current minimum if necessary\n",
    "print(current_minimum)"
   ]
  },
  {
   "cell_type": "markdown",
   "metadata": {},
   "source": [
    "# Exercises"
   ]
  },
  {
   "cell_type": "markdown",
   "metadata": {},
   "source": [
    "## Question 1\n",
    "Describe briefly the array my_array in English."
   ]
  },
  {
   "cell_type": "markdown",
   "metadata": {},
   "source": [
    "- It concatenates sequences together if they are on dimensional (vectors)"
   ]
  },
  {
   "cell_type": "markdown",
   "metadata": {},
   "source": [
    "## Question 2\n",
    "Why did we repeat opening and closing parentheses for `np.concatenate()`?"
   ]
  },
  {
   "cell_type": "markdown",
   "metadata": {},
   "source": [
    "- Because the function takes only argument when concatenating, a tuple containing the sequence types to be concatenated\n",
    "- This is actually not Pythonin as multiple arguments (sequence types) can be passed per parameter via tuple unpacking (`*args`)"
   ]
  },
  {
   "cell_type": "markdown",
   "metadata": {},
   "source": [
    "## Question 3\n",
    "Why to you think the result for `sum(4 >= my array)` is 6?"
   ]
  },
  {
   "cell_type": "code",
   "execution_count": null,
   "metadata": {},
   "outputs": [],
   "source": [
    "print(sum(4 >= np.array([1, 2, 3, 4, 5, 6]))) # number of elements in array that are smaller than 4 \n",
    "print(sum(np.array([1, 2, 3, 4, 5, 6]))) # sum of all elements in array"
   ]
  },
  {
   "cell_type": "markdown",
   "metadata": {},
   "source": [
    "- The `sum()` function has 2 capabilities:\n",
    "  - Compute the sum of all the elements\n",
    "  - Compute the number of elements that are within a certain range or comparison"
   ]
  },
  {
   "cell_type": "markdown",
   "metadata": {},
   "source": [
    "## Question 4\n",
    "Modify the code to also find the position of the minimum (i.e.,the index of the smallest element of the array; you may assume that there is a unique smallest element)"
   ]
  },
  {
   "cell_type": "code",
   "execution_count": null,
   "metadata": {},
   "outputs": [],
   "source": [
    "current_minimum = math.inf # infinity\n",
    "minimum_index = -1\n",
    "for index, element in enumerate(my_array): # iterate over array\n",
    "\tif current_minimum > element: # check if current element is smaller than current minimum\n",
    "\t\tcurrent_minimum = element # update current minimum if necessary\n",
    "\t\tminimum_index = index # update index of current minimum\n",
    "print(current_minimum, minimum_index)"
   ]
  },
  {
   "cell_type": "markdown",
   "metadata": {},
   "source": [
    "## Question 5/6/7\n",
    "Write a function for computing the squared Euclidean norm of a vector represented as a NumPy array. You may use for loops. Your function should take two inputs, the array and its length."
   ]
  },
  {
   "cell_type": "code",
   "execution_count": null,
   "metadata": {},
   "outputs": [],
   "source": [
    "def squared_euclidean_norm(array: list) -> float:\n",
    "\treturn (math.sqrt(sum([x ** 2 for x in array])))"
   ]
  },
  {
   "cell_type": "code",
   "execution_count": null,
   "metadata": {},
   "outputs": [],
   "source": [
    "print(squared_euclidean_norm([1, 2, 3]))"
   ]
  },
  {
   "cell_type": "markdown",
   "metadata": {},
   "source": [
    "# Revision Questions"
   ]
  },
  {
   "cell_type": "markdown",
   "metadata": {},
   "source": [
    "## Question 1\n",
    "Give the definition of a conformity measure in the context of conformal prediction."
   ]
  },
  {
   "cell_type": "markdown",
   "metadata": {},
   "source": [
    "- A conformity measure is a function that quantifies the degree to which a prediction set contains the labels of the data points it was generated from"
   ]
  },
  {
   "cell_type": "markdown",
   "metadata": {},
   "source": [
    "## Question 2\n",
    "Give the definition of a nonconformity measure in the context of conformal prediction."
   ]
  },
  {
   "cell_type": "markdown",
   "metadata": {},
   "source": [
    "- A nonconformity measure is a function that quantifies the degree to which a prediction set does not contain the labels of the data points it was generated from"
   ]
  },
  {
   "cell_type": "markdown",
   "metadata": {},
   "source": [
    "## Question 3\n",
    "Define the notion of a conformal predictor."
   ]
  },
  {
   "cell_type": "markdown",
   "metadata": {},
   "source": [
    "- A conformal predictor is a function that takes as input a data point and a prediction set, and outputs a label that is predicted to be in the set."
   ]
  },
  {
   "cell_type": "markdown",
   "metadata": {},
   "source": [
    "## Question 4\n",
    "Compare and contrast nonconformity measures and conformity measures."
   ]
  },
  {
   "cell_type": "markdown",
   "metadata": {},
   "source": [
    "- A conformity measure quantifies the degree to which a prediction set contains the labels of the data points it was generated from\n",
    "- A nonconformity measure quantifies the degree to which a prediction set does not contain the labels of the data points it was generated from."
   ]
  },
  {
   "cell_type": "markdown",
   "metadata": {},
   "source": [
    "## Question 5\n",
    "In the context of conformal prediction, what is the minimal possible p value for a training set of size `n`?\n"
   ]
  },
  {
   "cell_type": "markdown",
   "metadata": {},
   "source": [
    "The minimal possible p-value for a training set of size n is $$\\frac{1}{n}$$"
   ]
  },
  {
   "cell_type": "markdown",
   "metadata": {},
   "source": [
    "## Question 6\n",
    "In the context of conformal prediction, what are the possible p-values for a training set of size `n`?"
   ]
  },
  {
   "cell_type": "markdown",
   "metadata": {},
   "source": [
    "The possible p-values for a training set of size n are $$ \\frac{1}{n}, \\frac{2}{n}, \\frac{3}{n}, ..., 1 $$"
   ]
  }
 ],
 "metadata": {
  "kernelspec": {
   "display_name": "Python 3.9.12 ('base')",
   "language": "python",
   "name": "python3"
  },
  "language_info": {
   "codemirror_mode": {
    "name": "ipython",
    "version": 3
   },
   "file_extension": ".py",
   "mimetype": "text/x-python",
   "name": "python",
   "nbconvert_exporter": "python",
   "pygments_lexer": "ipython3",
   "version": "3.9.12"
  },
  "orig_nbformat": 4,
  "vscode": {
   "interpreter": {
    "hash": "9a317dd932dec76e8fdc8987ca60af4062f347c78c20ca5292cf26c8b2836138"
   }
  }
 },
 "nbformat": 4,
 "nbformat_minor": 2
}
