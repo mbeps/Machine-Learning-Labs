{
 "cells": [
  {
   "cell_type": "markdown",
   "metadata": {},
   "source": [
    "All explanations for code cells are written above the code cells."
   ]
  },
  {
   "cell_type": "markdown",
   "metadata": {},
   "source": [
    "# Using `numpy`"
   ]
  },
  {
   "cell_type": "markdown",
   "metadata": {},
   "source": [
    "## Importing `numpy` library"
   ]
  },
  {
   "cell_type": "code",
   "execution_count": null,
   "metadata": {},
   "outputs": [],
   "source": [
    "import numpy as np"
   ]
  },
  {
   "cell_type": "markdown",
   "metadata": {},
   "source": [
    "## Creating Matrices"
   ]
  },
  {
   "cell_type": "markdown",
   "metadata": {},
   "source": [
    "- A 3 by 3 matrix is created"
   ]
  },
  {
   "cell_type": "code",
   "execution_count": null,
   "metadata": {},
   "outputs": [],
   "source": [
    "x = np.array([[1, 2, 3],\n",
    "\t\t\t[4, 5, 6]])"
   ]
  },
  {
   "cell_type": "code",
   "execution_count": null,
   "metadata": {},
   "outputs": [],
   "source": [
    "print(x)"
   ]
  },
  {
   "cell_type": "markdown",
   "metadata": {},
   "source": [
    "# Using `matplotlib`"
   ]
  },
  {
   "cell_type": "markdown",
   "metadata": {},
   "source": [
    "- `%matplotlib inline` is a magic function\n",
    "- Allows for inline plotting of graphs (bellow the cells)"
   ]
  },
  {
   "cell_type": "code",
   "execution_count": null,
   "metadata": {},
   "outputs": [],
   "source": [
    "%matplotlib inline\n",
    "import matplotlib.pyplot as plt"
   ]
  },
  {
   "cell_type": "markdown",
   "metadata": {},
   "source": [
    "- Creates an array for 20 elements from 0 to 19\n",
    "- Similar to a list comprehension"
   ]
  },
  {
   "cell_type": "code",
   "execution_count": null,
   "metadata": {},
   "outputs": [],
   "source": [
    "x = np.arange(20)"
   ]
  },
  {
   "cell_type": "code",
   "execution_count": null,
   "metadata": {},
   "outputs": [],
   "source": [
    "print(x)"
   ]
  },
  {
   "cell_type": "markdown",
   "metadata": {},
   "source": [
    "- Checks if the a list comprehension is the same as the `x` that was generated"
   ]
  },
  {
   "cell_type": "code",
   "execution_count": null,
   "metadata": {},
   "outputs": [],
   "source": [
    "print([x for x in range(20)] in x)"
   ]
  },
  {
   "cell_type": "markdown",
   "metadata": {},
   "source": [
    "---"
   ]
  },
  {
   "cell_type": "markdown",
   "metadata": {},
   "source": [
    "- For each value of `x`, it computes `sin(x)` \n",
    "- Each value of `sin(x)` is added into the array `y`\n",
    "- Radians is the units used"
   ]
  },
  {
   "cell_type": "code",
   "execution_count": null,
   "metadata": {},
   "outputs": [],
   "source": [
    "y = np.sin(x)"
   ]
  },
  {
   "cell_type": "code",
   "execution_count": null,
   "metadata": {},
   "outputs": [],
   "source": [
    "print(y)"
   ]
  },
  {
   "cell_type": "markdown",
   "metadata": {},
   "source": [
    "## Plotting"
   ]
  },
  {
   "cell_type": "markdown",
   "metadata": {},
   "source": [
    "- `marker` is used to specify what sign is used to mark the coordinates\n",
    "- There are several markers that can be used specified in the [documentation](https://matplotlib.org/stable/api/markers_api.html#:~:text=All%20possible%20markers%20are%20defined%20here%3A)"
   ]
  },
  {
   "cell_type": "markdown",
   "metadata": {},
   "source": [
    "- Plotting `x` should return a straight like graph\n",
    "- Circles are the markers used"
   ]
  },
  {
   "cell_type": "code",
   "execution_count": null,
   "metadata": {
    "tags": []
   },
   "outputs": [],
   "source": [
    "plt.plot(x, marker = \"o\")"
   ]
  },
  {
   "cell_type": "markdown",
   "metadata": {},
   "source": [
    "- Plotting `y` returns the points for each value of `sin(x)`\n",
    "- Crosses are the markers used"
   ]
  },
  {
   "cell_type": "code",
   "execution_count": null,
   "metadata": {},
   "outputs": [],
   "source": [
    "plt.plot(y, marker = \"x\")"
   ]
  },
  {
   "cell_type": "markdown",
   "metadata": {},
   "source": [
    "- Why does reversing `x` and `y` change the graph?\n",
    "- The same graph is returned but transformed?"
   ]
  },
  {
   "cell_type": "code",
   "execution_count": null,
   "metadata": {},
   "outputs": [],
   "source": [
    "plt.plot(x, y, marker = \"x\")"
   ]
  },
  {
   "cell_type": "code",
   "execution_count": null,
   "metadata": {},
   "outputs": [],
   "source": [
    "plt.plot(y, x, marker = \"x\")"
   ]
  },
  {
   "cell_type": "markdown",
   "metadata": {},
   "source": [
    "# Experiments with `iris`\n",
    "In this part we will go through a simple machine learning application and create our first model. A hobby botanist would like to tell the species of iris flowers that she found. She has a training set of labelled flowers. The features are the length and width of the petals, and the length and width of the sepal, all measured in centimeters. \n",
    "\n",
    "There are three possible labels (species): Setosa, Versicolor, or Virginica. The iris dataset is a classical dataset in machine learning and statistics, collected by Ronald A. Fisher. It is included in scikit-learn in the dataset module. "
   ]
  },
  {
   "cell_type": "markdown",
   "metadata": {},
   "source": [
    "- The `iris` dataset is a precompiled dataset "
   ]
  },
  {
   "cell_type": "code",
   "execution_count": null,
   "metadata": {},
   "outputs": [],
   "source": [
    "from sklearn.datasets import load_iris\n",
    "from sklearn.utils import Bunch # For type hinting iris return type"
   ]
  },
  {
   "cell_type": "markdown",
   "metadata": {},
   "source": [
    "- Loads the `iris` dataset \n",
    "- This can be of the following types `tuple[DataFrame | ndarray, Series | DataFrame | ndarray] | Bunch`\n",
    "  - It normally returns a `Bunch` which is similar to a `dict`"
   ]
  },
  {
   "cell_type": "code",
   "execution_count": null,
   "metadata": {},
   "outputs": [],
   "source": [
    "iris: Bunch = load_iris()"
   ]
  },
  {
   "cell_type": "markdown",
   "metadata": {},
   "source": [
    "- As mentioned before, iris returns a `Bunch` which is similar to a `dict`\n",
    "- This means that each key will have some values that it store"
   ]
  },
  {
   "cell_type": "code",
   "execution_count": null,
   "metadata": {},
   "outputs": [],
   "source": [
    "iris.keys()"
   ]
  },
  {
   "cell_type": "markdown",
   "metadata": {},
   "source": [
    "- Because `iris` is similar to a `dict`, some of the operations from a `dict` can be used\n",
    "- `iris['DESCR']` finds what is stored in the `DESCR` key"
   ]
  },
  {
   "cell_type": "code",
   "execution_count": null,
   "metadata": {},
   "outputs": [],
   "source": [
    "print(iris['DESCR'])"
   ]
  },
  {
   "cell_type": "markdown",
   "metadata": {},
   "source": [
    "- `target_names` is a list of strings containing the labels \n",
    "- In this case, it contains the species of flowers that need to be predicted (dependent variable)"
   ]
  },
  {
   "cell_type": "code",
   "execution_count": null,
   "metadata": {},
   "outputs": [],
   "source": [
    "print(iris['target_names'])"
   ]
  },
  {
   "cell_type": "markdown",
   "metadata": {},
   "source": [
    "- `iris['feature_names']` returns a list of descriptions for each feature"
   ]
  },
  {
   "cell_type": "code",
   "execution_count": null,
   "metadata": {},
   "outputs": [],
   "source": [
    "print(iris['feature_names'])\n",
    "# print(*iris['feature_names'], sep=\"\\n\") # Print each element in a new line"
   ]
  },
  {
   "cell_type": "markdown",
   "metadata": {},
   "source": [
    "- `iris['data']` returns the data which is the matrix of features\n",
    "- `.shape` returns the shape of the matrix which is the dimensions (rows and columns)\n",
    "  - For this data, the matrix is 150 by 4 meaning there are 150 rows (values) and 4 columns"
   ]
  },
  {
   "cell_type": "code",
   "execution_count": null,
   "metadata": {},
   "outputs": [],
   "source": [
    "print(iris['data'].shape) # Dimensions of the matrix\n",
    "print(iris['data']) # Matrix of features"
   ]
  },
  {
   "cell_type": "markdown",
   "metadata": {},
   "source": [
    "- Using slicing, it is possible to get a range of values (slice) from the data (matrix of features)"
   ]
  },
  {
   "cell_type": "code",
   "execution_count": null,
   "metadata": {},
   "outputs": [],
   "source": [
    "print(iris['data'][:5]) # Splice from start of list to 4th index (5 elements)"
   ]
  },
  {
   "cell_type": "markdown",
   "metadata": {},
   "source": [
    "- Contains the species of each flower that was measured\n",
    "  - 0 = Setosa, 1 = Versicolor, 2 = Virginica"
   ]
  },
  {
   "cell_type": "code",
   "execution_count": null,
   "metadata": {},
   "outputs": [],
   "source": [
    "print(iris['target'])"
   ]
  },
  {
   "cell_type": "markdown",
   "metadata": {},
   "source": [
    "- Returns the shape of the Numpy array as the dimensions of the matrix\n",
    "- There are 150 rows similar similar to the number of rows in `iris['data']` \n",
    "  - This is because each target applies to the data"
   ]
  },
  {
   "cell_type": "code",
   "execution_count": null,
   "metadata": {},
   "outputs": [],
   "source": [
    "print(iris['target'].shape)"
   ]
  },
  {
   "cell_type": "markdown",
   "metadata": {},
   "source": [
    "# Visualizing Data\n",
    "- It is often a good idea to visualize your data:\n",
    "  - To see if the task is easily solvable without machine learning\n",
    "  - Or if the desired information might not be contained in the data\n",
    "- Computer screens have only two dimensions, which allows us to only plot two (or maybe three) features at a time"
   ]
  },
  {
   "cell_type": "markdown",
   "metadata": {},
   "source": [
    "- The *Matrix of Features* is usually denoted with `X`\n",
    "- The *Dependent Variable* vector is denoted with `y`"
   ]
  },
  {
   "cell_type": "code",
   "execution_count": null,
   "metadata": {},
   "outputs": [],
   "source": [
    "X: Bunch = iris['data'] # Matrix of Features\n",
    "y: Bunch = iris['target'] # Dependent Variable Vector"
   ]
  },
  {
   "cell_type": "markdown",
   "metadata": {},
   "source": [
    "- The axis are `sepal_length` and `petal length`\n",
    "- `X[:, 0]` denotes \n",
    "  - Everything from the start to the end of the Matrix of Features `X`\n",
    "  - `, 0` serves as proxy for the size of sepals\n",
    "  - `, 2` serves as proxy for the size of petals\n",
    "- `c=y` denotes:\n",
    "  - `c` = colour\n",
    "  - `y` = vector of labels\n",
    "- `s=60` denotes the size of the dots"
   ]
  },
  {
   "cell_type": "code",
   "execution_count": null,
   "metadata": {},
   "outputs": [],
   "source": [
    "plt.scatter(X[:, 0], X[:, 2], c=y, s=60)"
   ]
  },
  {
   "cell_type": "code",
   "execution_count": null,
   "metadata": {},
   "outputs": [],
   "source": [
    "plt.scatter(X[:, 3], X[:, 2], c=y, s=30)"
   ]
  },
  {
   "cell_type": "code",
   "execution_count": null,
   "metadata": {},
   "outputs": [],
   "source": [
    "fig, ax = plt.subplots(3, 3, figsize=(15, 15))\n",
    "plt.suptitle(\"iris pairplot\")\n",
    "\n",
    "for i in range(3):\n",
    "\tfor j in range(3):\n",
    "\t\tax[i,j].scatter(X[:,j], X[:,i+1], c=y, s=60) #\n",
    "\t\tax[i,j].set_xticks(())\n",
    "\t\tax[i,j].set_yticks(())\n",
    "\t\tif i == 2:\n",
    "\t\t\tax[i,j].set_xlabel(iris['feature_names'][j])\n",
    "\t\tif j == 0:\n",
    "\t\t\tax[i,j].set_ylabel(iris['feature_names'][i+1])\n",
    "\t\tif j > i:\n",
    "\t\t\tax[i,j].set_visible(False)\n",
    "\t\t"
   ]
  },
  {
   "cell_type": "code",
   "execution_count": null,
   "metadata": {},
   "outputs": [],
   "source": [
    "print(len(fig.axes)) # Number of axes in the figure\n",
    "print(len(fig.axes) - len(fig.get_axes())) # Number of invisible axes"
   ]
  }
 ],
 "metadata": {
  "kernelspec": {
   "display_name": "Python 3.9.12 ('base')",
   "language": "python",
   "name": "python3"
  },
  "language_info": {
   "codemirror_mode": {
    "name": "ipython",
    "version": 3
   },
   "file_extension": ".py",
   "mimetype": "text/x-python",
   "name": "python",
   "nbconvert_exporter": "python",
   "pygments_lexer": "ipython3",
   "version": "3.9.12"
  },
  "orig_nbformat": 4,
  "vscode": {
   "interpreter": {
    "hash": "9a317dd932dec76e8fdc8987ca60af4062f347c78c20ca5292cf26c8b2836138"
   }
  }
 },
 "nbformat": 4,
 "nbformat_minor": 2
}
