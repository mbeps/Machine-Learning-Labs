{
 "cells": [
  {
   "cell_type": "markdown",
   "metadata": {},
   "source": [
    "# Code"
   ]
  },
  {
   "cell_type": "markdown",
   "metadata": {},
   "source": [
    "## Using `numpy`"
   ]
  },
  {
   "cell_type": "markdown",
   "metadata": {},
   "source": [
    "### Importing `numpy` library"
   ]
  },
  {
   "cell_type": "code",
   "execution_count": null,
   "metadata": {},
   "outputs": [],
   "source": [
    "import numpy as np\n",
    "import matplotlib.pyplot as plt"
   ]
  },
  {
   "cell_type": "markdown",
   "metadata": {},
   "source": [
    "### Creating Matrices"
   ]
  },
  {
   "cell_type": "markdown",
   "metadata": {},
   "source": [
    "- A 3 by 3 matrix is created"
   ]
  },
  {
   "cell_type": "code",
   "execution_count": null,
   "metadata": {},
   "outputs": [],
   "source": [
    "x = np.array([[1, 2, 3],\n",
    "\t\t\t[4, 5, 6]])"
   ]
  },
  {
   "cell_type": "code",
   "execution_count": null,
   "metadata": {},
   "outputs": [],
   "source": [
    "print(x)"
   ]
  },
  {
   "cell_type": "markdown",
   "metadata": {},
   "source": [
    "## Using `matplotlib`"
   ]
  },
  {
   "cell_type": "markdown",
   "metadata": {},
   "source": [
    "- `%matplotlib inline` is a magic function\n",
    "- Allows for inline plotting of graphs (bellow the cells)"
   ]
  },
  {
   "cell_type": "code",
   "execution_count": null,
   "metadata": {},
   "outputs": [],
   "source": [
    "%matplotlib inline\n",
    "import matplotlib.pyplot as plt "
   ]
  },
  {
   "cell_type": "markdown",
   "metadata": {},
   "source": [
    "- Creates an array for 20 elements from 0 to 19\n",
    "- Similar to a list comprehension"
   ]
  },
  {
   "cell_type": "code",
   "execution_count": null,
   "metadata": {},
   "outputs": [],
   "source": [
    "x = np.arange(20)"
   ]
  },
  {
   "cell_type": "code",
   "execution_count": null,
   "metadata": {},
   "outputs": [],
   "source": [
    "print(x)"
   ]
  },
  {
   "cell_type": "markdown",
   "metadata": {},
   "source": [
    "- Checks if the a list comprehension is the same as the `x` that was generated"
   ]
  },
  {
   "cell_type": "code",
   "execution_count": null,
   "metadata": {},
   "outputs": [],
   "source": [
    "print([x for x in range(20)] in x)"
   ]
  },
  {
   "cell_type": "markdown",
   "metadata": {},
   "source": [
    "---"
   ]
  },
  {
   "cell_type": "markdown",
   "metadata": {},
   "source": [
    "- For each value of `x`, it computes `sin(x)` \n",
    "- Each value of `sin(x)` is added into the array `y`\n",
    "- Radians is the units used"
   ]
  },
  {
   "cell_type": "code",
   "execution_count": null,
   "metadata": {},
   "outputs": [],
   "source": [
    "y = np.sin(x)"
   ]
  },
  {
   "cell_type": "code",
   "execution_count": null,
   "metadata": {},
   "outputs": [],
   "source": [
    "print(y)"
   ]
  },
  {
   "cell_type": "markdown",
   "metadata": {},
   "source": [
    "### Plotting"
   ]
  },
  {
   "cell_type": "markdown",
   "metadata": {},
   "source": [
    "- `marker` is used to specify what sign is used to mark the coordinates\n",
    "- There are several markers that can be used specified in the [documentation](https://matplotlib.org/stable/api/markers_api.html#:~:text=All%20possible%20markers%20are%20defined%20here%3A)"
   ]
  },
  {
   "cell_type": "markdown",
   "metadata": {},
   "source": [
    "- Plotting `x` should return a straight like graph\n",
    "- Circles are the markers used"
   ]
  },
  {
   "cell_type": "code",
   "execution_count": null,
   "metadata": {
    "tags": []
   },
   "outputs": [],
   "source": [
    "plt.plot(x, marker = \"o\")"
   ]
  },
  {
   "cell_type": "markdown",
   "metadata": {},
   "source": [
    "- Plotting `y` returns the points for each value of `sin(x)`\n",
    "- Crosses are the markers used"
   ]
  },
  {
   "cell_type": "code",
   "execution_count": null,
   "metadata": {},
   "outputs": [],
   "source": [
    "plt.plot(y, marker = \"x\")"
   ]
  },
  {
   "cell_type": "markdown",
   "metadata": {},
   "source": [
    "- Why does reversing `x` and `y` change the graph?\n",
    "- The same graph is returned but transformed?"
   ]
  },
  {
   "cell_type": "code",
   "execution_count": null,
   "metadata": {},
   "outputs": [],
   "source": [
    "plt.plot(x, y, marker = \"x\")"
   ]
  },
  {
   "cell_type": "code",
   "execution_count": null,
   "metadata": {},
   "outputs": [],
   "source": [
    "plt.plot(y, x, marker = \"x\")"
   ]
  },
  {
   "cell_type": "markdown",
   "metadata": {},
   "source": [
    "## Experiments with `iris`\n",
    "In this part we will go through a simple machine learning application and create our first model. A hobby botanist would like to tell the species of iris flowers that she found. She has a training set of labelled flowers. The features are the length and width of the petals, and the length and width of the sepal, all measured in centimeters. \n",
    "\n",
    "There are three possible labels (species): Setosa, Versicolor, or Virginica. The iris dataset is a classical dataset in machine learning and statistics, collected by Ronald A. Fisher. It is included in scikit-learn in the dataset module. "
   ]
  },
  {
   "cell_type": "markdown",
   "metadata": {},
   "source": [
    "- The `iris` dataset is a precompiled dataset "
   ]
  },
  {
   "cell_type": "code",
   "execution_count": null,
   "metadata": {},
   "outputs": [],
   "source": [
    "from sklearn.datasets import load_iris\n",
    "from sklearn.utils import Bunch # For type hinting iris return type"
   ]
  },
  {
   "cell_type": "markdown",
   "metadata": {},
   "source": [
    "- Loads the `iris` dataset \n",
    "- This can be of the following types `tuple[DataFrame | ndarray, Series | DataFrame | ndarray] | Bunch`\n",
    "  - It normally returns a `Bunch` which is similar to a `dict`"
   ]
  },
  {
   "cell_type": "code",
   "execution_count": null,
   "metadata": {},
   "outputs": [],
   "source": [
    "iris: Bunch = load_iris()"
   ]
  },
  {
   "cell_type": "markdown",
   "metadata": {},
   "source": [
    "- As mentioned before, iris returns a `Bunch` which is similar to a `dict`\n",
    "- This means that each key will have some values that it store"
   ]
  },
  {
   "cell_type": "code",
   "execution_count": null,
   "metadata": {},
   "outputs": [],
   "source": [
    "iris.keys()"
   ]
  },
  {
   "cell_type": "markdown",
   "metadata": {},
   "source": [
    "- Because `iris` is similar to a `dict`, some of the operations from a `dict` can be used\n",
    "- `iris['DESCR']` finds what is stored in the `DESCR` key"
   ]
  },
  {
   "cell_type": "code",
   "execution_count": null,
   "metadata": {},
   "outputs": [],
   "source": [
    "print(iris['DESCR'])"
   ]
  },
  {
   "cell_type": "markdown",
   "metadata": {},
   "source": [
    "- `target_names` is a list of strings containing the labels \n",
    "- In this case, it contains the species of flowers that need to be predicted (dependent variable)"
   ]
  },
  {
   "cell_type": "code",
   "execution_count": null,
   "metadata": {},
   "outputs": [],
   "source": [
    "print(iris['target_names'])"
   ]
  },
  {
   "cell_type": "markdown",
   "metadata": {},
   "source": [
    "- `iris['feature_names']` returns a list of descriptions for each feature"
   ]
  },
  {
   "cell_type": "code",
   "execution_count": null,
   "metadata": {},
   "outputs": [],
   "source": [
    "print(iris['feature_names'])\n",
    "# print(*iris['feature_names'], sep=\"\\n\") # Print each element in a new line"
   ]
  },
  {
   "cell_type": "markdown",
   "metadata": {},
   "source": [
    "- `iris['data']` returns the data which is the matrix of features\n",
    "- `.shape` returns the shape of the matrix which is the dimensions (rows and columns)\n",
    "  - For this data, the matrix is 150 by 4 meaning there are 150 rows (values) and 4 columns"
   ]
  },
  {
   "cell_type": "code",
   "execution_count": null,
   "metadata": {},
   "outputs": [],
   "source": [
    "print(iris['data'].shape) # Dimensions of the matrix\n",
    "print(iris['data']) # Matrix of features"
   ]
  },
  {
   "cell_type": "markdown",
   "metadata": {},
   "source": [
    "- Using slicing, it is possible to get a range of values (slice) from the data (matrix of features)"
   ]
  },
  {
   "cell_type": "code",
   "execution_count": null,
   "metadata": {},
   "outputs": [],
   "source": [
    "print(iris['data'][:5]) # Splice from start of list to 4th index (5 elements)"
   ]
  },
  {
   "cell_type": "markdown",
   "metadata": {},
   "source": [
    "- Contains the species of each flower that was measured\n",
    "  - 0 = Setosa, 1 = Versicolor, 2 = Virginica"
   ]
  },
  {
   "cell_type": "code",
   "execution_count": null,
   "metadata": {},
   "outputs": [],
   "source": [
    "print(iris['target'])"
   ]
  },
  {
   "cell_type": "markdown",
   "metadata": {},
   "source": [
    "- Returns the shape of the Numpy array as the dimensions of the matrix\n",
    "- There are 150 rows similar similar to the number of rows in `iris['data']` \n",
    "  - This is because each target applies to the data"
   ]
  },
  {
   "cell_type": "code",
   "execution_count": null,
   "metadata": {},
   "outputs": [],
   "source": [
    "print(iris['target'].shape)"
   ]
  },
  {
   "cell_type": "markdown",
   "metadata": {},
   "source": [
    "## Visualizing Data\n",
    "- It is often a good idea to visualize your data:\n",
    "  - To see if the task is easily solvable without machine learning\n",
    "  - Or if the desired information might not be contained in the data\n",
    "- Computer screens have only two dimensions, which allows us to only plot two (or maybe three) features at a time"
   ]
  },
  {
   "cell_type": "markdown",
   "metadata": {},
   "source": [
    "- The *Matrix of Features* is usually denoted with `X`\n",
    "- The *Dependent Variable* vector is denoted with `y`"
   ]
  },
  {
   "cell_type": "code",
   "execution_count": null,
   "metadata": {},
   "outputs": [],
   "source": [
    "X: Bunch = iris['data'] # Matrix of Features\n",
    "y: Bunch = iris['target'] # Dependent Variable Vector"
   ]
  },
  {
   "cell_type": "markdown",
   "metadata": {},
   "source": [
    "- The axis are `sepal_length` and `petal length`\n",
    "- `X[:, 0]` denotes \n",
    "  - Everything from the start to the end of the Matrix of Features `X`\n",
    "  - `, 0` serves as proxy for the size of sepals\n",
    "  - `, 2` serves as proxy for the size of petals\n",
    "- `c=y` denotes:\n",
    "  - `c` = colour\n",
    "  - `y` = vector of labels\n",
    "- `s=60` denotes the size of the dots"
   ]
  },
  {
   "cell_type": "code",
   "execution_count": null,
   "metadata": {},
   "outputs": [],
   "source": [
    "plt.scatter(X[:, 0], X[:, 2], c=y, s=60)"
   ]
  },
  {
   "cell_type": "code",
   "execution_count": null,
   "metadata": {},
   "outputs": [],
   "source": [
    "plt.scatter(X[:, 3], X[:, 2], c=y, s=30)"
   ]
  },
  {
   "cell_type": "code",
   "execution_count": null,
   "metadata": {},
   "outputs": [],
   "source": [
    "fig, ax = plt.subplots(3, 3, figsize=(15, 15)) # Create a 3x3 grid of subplots\n",
    "plt.suptitle(\"iris pairplot\") # Add a title to the figure\n",
    "\n",
    "for i in range(3): # For each row\n",
    "\tfor j in range(3): # For each column\n",
    "\t\tax[i,j].scatter(X[:,j], X[:,i+1], c=y, s=60) # Scatter plot on the (i,j)th subplot\n",
    "\t\tax[i,j].set_xticks(()) # Remove ticks from the x-axis\n",
    "\t\tax[i,j].set_yticks(()) # Remove ticks from the y-axis\n",
    "\t\tif i == 2: # If we are on the last row\n",
    "\t\t\tax[i,j].set_xlabel(iris['feature_names'][j]) # Add label to the x-axis\n",
    "\t\tif j == 0: # If we are on the first column\n",
    "\t\t\tax[i,j].set_ylabel(iris['feature_names'][i+1]) # Add label to the y-axis\n",
    "\t\tif j > i:\n",
    "\t\t\tax[i,j].set_visible(False) # Hide upper triangular subplot\n",
    "\t\t"
   ]
  },
  {
   "cell_type": "code",
   "execution_count": null,
   "metadata": {},
   "outputs": [],
   "source": [
    "print(len(fig.axes)) # Number of axes in the figure\n",
    "print(len(fig.axes) - len(fig.get_axes())) # Number of invisible axes"
   ]
  },
  {
   "cell_type": "markdown",
   "metadata": {},
   "source": [
    "# Exercises"
   ]
  },
  {
   "cell_type": "markdown",
   "metadata": {},
   "source": [
    "## Question 1\n",
    "Is the guess that features 0 and 2 are almost as informative as all four features correct? Or, at least, can we say that features 0 and 2 are as informative as any other pair of features? Draw scatter plots for other pairs of features, and write your conclusions in your Jupyter notebook. "
   ]
  },
  {
   "cell_type": "markdown",
   "metadata": {},
   "source": [
    "- It is possible to draw plots similar to that in [Visualizing Data](#visualizing-data) `In [37]` or consult the composite plot in `In [39]` \n",
    "- The pair (0, 2), which is (sepal length, sepal width) would be good\n",
    "\t- Alternatively, (petal length, petal width) could potentially be a better option"
   ]
  },
  {
   "cell_type": "markdown",
   "metadata": {},
   "source": [
    "## Question 2\n",
    "This is a difficult exercise. What is going on in the third listing of Section 4 (the one with two nested for loops)? Add a brief explanation to the Jupyter notebook for this lab. If needed, use the `help` command (such as\n",
    "`help(plt.subplots)`)"
   ]
  },
  {
   "cell_type": "markdown",
   "metadata": {},
   "source": [
    "- The loop goes over 16 plots (scatter plots of feature `i` over/compared to feature `j`)\n",
    "  - To avoid redundancy, not all the plots were made visible; for example feature `i` against feature `i`\n",
    "- Not all the axes need to be labeled which is why the if statements are used\n",
    "  - Last row and first column have labels the x-axis and y-axis respectively "
   ]
  },
  {
   "cell_type": "markdown",
   "metadata": {},
   "source": [
    "## Question 3\n",
    "If you have done the previous exercise, this exercise is optional for you. Try all code discussed in the lectures."
   ]
  },
  {
   "cell_type": "code",
   "execution_count": null,
   "metadata": {},
   "outputs": [],
   "source": [
    "x = int(input(\"Please enter an integer: \"))\n",
    "if x < 0:\n",
    "  x = 0\n",
    "  print('Negative changed to zero')\n",
    "elif x == 0:\n",
    "  print('Zero')\n",
    "elif x == 1:\n",
    "  print('Single')\n",
    "else:\n",
    "  print('More')"
   ]
  },
  {
   "cell_type": "code",
   "execution_count": null,
   "metadata": {},
   "outputs": [],
   "source": [
    "for i in range(3):\n",
    "\tprint(i)"
   ]
  },
  {
   "cell_type": "markdown",
   "metadata": {},
   "source": [
    "# Quiz"
   ]
  },
  {
   "cell_type": "markdown",
   "metadata": {},
   "source": [
    "## Question 1\n",
    "What will be the output of the following commands in Python/NumPy?"
   ]
  },
  {
   "cell_type": "code",
   "execution_count": null,
   "metadata": {},
   "outputs": [],
   "source": [
    "x = np.array([[2,5,1],[0,4,2]])\n",
    "print(x[1,1]-x[0,0])"
   ]
  },
  {
   "cell_type": "markdown",
   "metadata": {},
   "source": [
    "## Question 2\n",
    "What will be the output of the following commands in Python/NumPy?"
   ]
  },
  {
   "cell_type": "code",
   "execution_count": null,
   "metadata": {},
   "outputs": [],
   "source": [
    "x = np.arange(33)\n",
    "print(x[1]+x[-1])"
   ]
  },
  {
   "cell_type": "markdown",
   "metadata": {},
   "source": [
    "## K-Nearest Neighbour Algorithm"
   ]
  },
  {
   "cell_type": "code",
   "execution_count": null,
   "metadata": {},
   "outputs": [],
   "source": [
    "def get_neighbors(data: list[tuple[int]], test: tuple[int], k: int) -> list[tuple[int]]:\n",
    "\t\"\"\"Finds the list of nearest neighbors relative to the test point. \n",
    "\n",
    "\tArgs:\n",
    "\t\tdata (list[tuple[int]]): list of points in the dataset\n",
    "\t\ttest (tuple[int]): test point to be compared to for distance\n",
    "\t\tk (int): number of nearest neighbors\n",
    "\n",
    "\tReturns:\n",
    "\t\tlist: list of neighbors\n",
    "\t\"\"\"\n",
    "\tdistances: list[tuple] = []\n",
    "\tfor point in data: # for each point in the data set\n",
    "\t\tdistance = get_distance(test, point) # calculate the distance between the test point and the point in the data set\n",
    "\t\tdistances.append((point, distance)) # add tuple of point and distance to distances list\n",
    "\tdistances.sort(key=lambda tup: tup[1]) # sort by distance in ascending order\n",
    "\tneighbors: list[tuple[int]] = [] # list of neighbors (currently empty)\n",
    "\tfor i in range(k): # for each neighbor\n",
    "\t\tneighbors.append(distances[i][0]) # add the point to the neighbors list\n",
    "\treturn neighbors\n",
    "\n",
    "def get_distance(test: tuple[int], point: tuple[int]) -> float:\n",
    "\t\"\"\"Calculates the distance between the test point and the point in the data set.\n",
    "\n",
    "\tArgs:\n",
    "\t\ttest (tuple[int]): test point to be compared to for distance\n",
    "\t\tpoint (tuple[int]): point in the data set to be compared to for distance\n",
    "\n",
    "\tReturns:\n",
    "\t\tfloat: distance between the test point and the point in the data set\n",
    "\t\"\"\"\n",
    "\tdistance = 0\n",
    "\t# for i in range(len(test)):\n",
    "\t# \tdistance += (test[i] - point[i])**2\n",
    "\tfor i, j in enumerate(test):\n",
    "\t\tdistance += (j - point[i])**2 \n",
    "\treturn distance**0.5\n",
    "\n",
    "def get_prediction(neighbors: list) -> int:\n",
    "\t\"\"\"Gets the prediction based on the neighbors.\n",
    "\t\n",
    "\tArgs:\n",
    "\t\tneighbors (list): list of neighbors\n",
    "\n",
    "\tReturns:\n",
    "\t\tint: prediction\n",
    "\t\"\"\"\n",
    "\treturn neighbors[0][-1]\n",
    "\n",
    "def execute(data: list[tuple[int]], test: tuple[int], k: int) -> int:\n",
    "\t\"\"\"Executes the k-Nearest Neighbor algorithm on the given dataset, test and k.\n",
    "\n",
    "\tArgs:\n",
    "\t\tdata (list[tuple[int]]): list of points in the dataset\n",
    "\t\ttest (tuple[int]): test point to be compared to for distance\n",
    "\t\tk (int): number of nearest neighbors\n",
    "\n",
    "\tReturns:\n",
    "\t\tint: prediction\n",
    "\t\"\"\"\n",
    "\tneighbors = get_neighbors(data, test, k)\n",
    "\tprediction = get_prediction(neighbors)\n",
    "\n",
    "\tprint(f\"Data: {data}\")\n",
    "\tprint(f\"Test: {test}\")\n",
    "\tprint(f\"K: {k}\")\n",
    "\tprint(f\"Neighbors: {neighbors}\")\n",
    "\tprint(f\"Prediction: {prediction}\")"
   ]
  },
  {
   "cell_type": "markdown",
   "metadata": {},
   "source": [
    "## Question 3\n",
    "Consider the training set\n",
    "- (0,0) with label 7\n",
    "- (0,2) with label 2\n",
    "- (1,2) with label 5\n",
    "- (0,3) with label 2\n",
    "\n",
    "and a test sample (1,1). Calculate its classification using the K Nearest Neighbours algorithm with Euclidean distance, where K = 1."
   ]
  },
  {
   "cell_type": "code",
   "execution_count": null,
   "metadata": {},
   "outputs": [],
   "source": [
    "data = [(0, 0, 7), (0, 2, 2), (1, 2, 5), (0, 3, 2)]\n",
    "test = (1, 1)\n",
    "k = 1\n",
    "execute(data, test, k)"
   ]
  },
  {
   "cell_type": "markdown",
   "metadata": {},
   "source": [
    "## Question 4\n",
    "Consider the training set\n",
    "- (0,0) with label 1\n",
    "- (0,2) with label 1\n",
    "- (1,2) with label 0\n",
    "- (0,3) with label 0\n",
    "\n",
    "and a test sample (1,1). Calculate its classification using the K Nearest Neighbours algorithm with Euclidean distance, where K = 3."
   ]
  },
  {
   "cell_type": "code",
   "execution_count": null,
   "metadata": {},
   "outputs": [],
   "source": [
    "data = [\n",
    "\t(0, 0, 1), \n",
    "\t(0, 2, 1), \n",
    "\t(1, 2, 0), \n",
    "\t(0, 3, 0)\n",
    "\t]\n",
    "test = (1, 1)\n",
    "k = 3\n",
    "execute(data, test, k)"
   ]
  },
  {
   "cell_type": "markdown",
   "metadata": {},
   "source": [
    "## Question 5\n",
    "- Predicting tomorrow's maximum temperature is an example of *supervised* learning.\n",
    "- Outlier detection is an example of *unsupervised* learning.\n",
    "- Recognizing whether a face is male or female is an example of *supervised* learning.\n",
    "- Dividing shoppers into distinct classes (without knowing the classes in advance) is an example of *unsupervised* learning.\n",
    "- Deciding whether a set of points in a multidimensional space live in a low-dimensional subspace is an example of *unsupervised* learning."
   ]
  },
  {
   "cell_type": "markdown",
   "metadata": {},
   "source": [
    "## Question 6\n",
    "The problem of predicting the maximum temperature for tomorrow is an example of a classification problem.  \n",
    "- *False*"
   ]
  },
  {
   "cell_type": "markdown",
   "metadata": {},
   "source": [
    "## Question 7\n",
    "This question is about the third listing of Section 4 (the one with two nested for loops) in Lab 1.\n",
    "- How many visible axes objects are there?  *6*\n",
    "How many axes objects are invisible?  *3*"
   ]
  },
  {
   "cell_type": "markdown",
   "metadata": {},
   "source": [
    "# Revision Questions"
   ]
  },
  {
   "cell_type": "markdown",
   "metadata": {},
   "source": [
    "## Question 1\n",
    "Give two examples of practical problems that can be solved using machine learning."
   ]
  },
  {
   "cell_type": "markdown",
   "metadata": {},
   "source": [
    "- Image and speech recognition \n",
    "- Medical diagnosis \n",
    "- Statistical predictions\n",
    "- Predictive analysis"
   ]
  },
  {
   "cell_type": "markdown",
   "metadata": {},
   "source": [
    "## Question 2\n",
    "Describe briefly the structure of Bunch objects in scikit-learn."
   ]
  },
  {
   "cell_type": "markdown",
   "metadata": {},
   "source": [
    "`Bunch` is a data structure similar to a dictionary (`dict`) which is used to represent data similar to a table with each column being labelled and having arrays of data. "
   ]
  },
  {
   "cell_type": "markdown",
   "metadata": {},
   "source": [
    "## Question 3\n",
    "What is the typical use of Bunch objects in scikit-learn?"
   ]
  },
  {
   "cell_type": "markdown",
   "metadata": {},
   "source": [
    "It is used to store datasets in an organized fashion similar to tables with labeled columns and data for each label. "
   ]
  },
  {
   "cell_type": "markdown",
   "metadata": {},
   "source": [
    "## Question 4\n",
    "What will be the output of the following commands in Python/NumPy?"
   ]
  },
  {
   "cell_type": "code",
   "execution_count": null,
   "metadata": {},
   "outputs": [],
   "source": [
    "x = np.array([[1,2,3],[4,5,6]])\n",
    "x1, x2 = x[1, 1], x[0, 0]\n",
    "print(f\"{x1} - {x2} = {x1-x2}\")"
   ]
  },
  {
   "cell_type": "markdown",
   "metadata": {},
   "source": [
    "`4` because `[1, 1] = 5` and `[0, 0] = 1` so `5 - 1 = 4`. "
   ]
  },
  {
   "cell_type": "markdown",
   "metadata": {},
   "source": [
    "## Question 5\n",
    "What will be the output of the following commands in Python/NumPy?"
   ]
  },
  {
   "cell_type": "code",
   "execution_count": null,
   "metadata": {},
   "outputs": [],
   "source": [
    "x = np.arange(12) # 0 to 11\n",
    "x[1] + x[-1] # 1 + 11 = 12\n",
    "print(f\"{x[1]} + {x[-1]} = {x[1] + x[-1]}\")"
   ]
  },
  {
   "cell_type": "markdown",
   "metadata": {},
   "source": [
    "`x[1] = 1` and `x[-1] = 11` (first element from the end / last element). `1 + 11 = 12` "
   ]
  },
  {
   "cell_type": "markdown",
   "metadata": {},
   "source": [
    "## Question 6\n",
    "What do you think will be the output of the following commands in\n",
    "Python? Why?"
   ]
  },
  {
   "cell_type": "code",
   "execution_count": null,
   "metadata": {},
   "outputs": [],
   "source": [
    "for i in range(3):\n",
    "\tprint(i)"
   ]
  },
  {
   "cell_type": "markdown",
   "metadata": {},
   "source": [
    "- It will print 0, 1, 2. \n",
    "- The for `loop` will iterate over the range sequence type which contains 3 elements, 0, 1, and 2\n",
    "- For each element in `range(3)`, the current value of the iteration will be printed"
   ]
  },
  {
   "cell_type": "markdown",
   "metadata": {},
   "source": [
    "## Question 7\n",
    "Give two examples of practical problems of supervised machine learning and identify samples, labels, and labelled samples for them."
   ]
  },
  {
   "cell_type": "markdown",
   "metadata": {},
   "source": [
    "1. A company wants to build a machine learning model to predict which of its customers will churn (i.e. stop being customers). The company has historical data on its customers, including whether or not they churned. The data is an example of a supervised machine learning problem, with the labels being \"churned\" or \"not churned\" and the features being the customer's history with the company.\n",
    "2. A bank wants to build a machine learning model to predict which of its loan applicants will default on their loans. The bank has historical data on its loan applicants, including whether or not they defaulted. The data is an example of a supervised machine learning problem, with the labels being \"defaulted\" or \"not defaulted\" and the features being the loan applicant's history with the bank."
   ]
  },
  {
   "cell_type": "markdown",
   "metadata": {},
   "source": [
    "## Question 8"
   ]
  },
  {
   "cell_type": "markdown",
   "metadata": {},
   "source": [
    "What is meant by a classification problem in machine learning?  "
   ]
  },
  {
   "cell_type": "markdown",
   "metadata": {},
   "source": [
    "- A classification problem is about predicting discrete data such as predicting labels or classes (for example, \"dog\" or \"cat\") from a set of input features "
   ]
  },
  {
   "cell_type": "markdown",
   "metadata": {},
   "source": [
    "When is a classification problem called binary?"
   ]
  },
  {
   "cell_type": "markdown",
   "metadata": {},
   "source": [
    "- A binary classification problem is where there are 2 labels which are mutually exclusive classes\n",
    "- For example \"cat\" \"not a cat\""
   ]
  },
  {
   "cell_type": "markdown",
   "metadata": {},
   "source": [
    "When is it called multi-class?"
   ]
  },
  {
   "cell_type": "markdown",
   "metadata": {},
   "source": [
    "- A multi-class classification problem is when there are more than 2 labels/classes\n",
    "- For example \"dog\", \"donkey\", \"bird\""
   ]
  },
  {
   "cell_type": "markdown",
   "metadata": {},
   "source": [
    "## Question 9\n",
    "What is meant by a regression problem in machine learning?"
   ]
  },
  {
   "cell_type": "markdown",
   "metadata": {},
   "source": [
    "- A regression problem is about predicting continuous data from a set of input features\n",
    "- For example, the future price of a product based on history"
   ]
  },
  {
   "cell_type": "markdown",
   "metadata": {},
   "source": [
    "## Question 10\n",
    "Give two practical examples of classification problems."
   ]
  },
  {
   "cell_type": "markdown",
   "metadata": {},
   "source": [
    "- Determining (labelling) whether an animal is a dog or cat based on its features"
   ]
  },
  {
   "cell_type": "markdown",
   "metadata": {},
   "source": [
    "## Question 11\n",
    "Give two practical examples of binary classification problems."
   ]
  },
  {
   "cell_type": "markdown",
   "metadata": {},
   "source": [
    "1. Classifying whether an email is spam or not spam\n",
    "2. Classifying whether a tumor is benign or malignant"
   ]
  },
  {
   "cell_type": "markdown",
   "metadata": {},
   "source": [
    "## Question 12\n",
    "Give two practical examples of online learning problems."
   ]
  },
  {
   "cell_type": "markdown",
   "metadata": {},
   "source": [
    "- Online learning is a type of machine learning where the model is trained on data that arrives in a stream, such as stock prices or weather data.\n",
    "\n",
    "1. Learning to predict the stock market\n",
    "2. Learning to play a video game"
   ]
  },
  {
   "cell_type": "markdown",
   "metadata": {},
   "source": [
    "## Question1 13\n",
    "Give two practical examples of regression problems."
   ]
  },
  {
   "cell_type": "markdown",
   "metadata": {},
   "source": [
    "1. Predicting the future price of a product based on history \n",
    "2. Predicting the temperature "
   ]
  },
  {
   "cell_type": "markdown",
   "metadata": {},
   "source": [
    "## Question 14"
   ]
  },
  {
   "cell_type": "markdown",
   "metadata": {},
   "source": [
    "What is meant by a feature in machine learning?"
   ]
  },
  {
   "cell_type": "markdown",
   "metadata": {},
   "source": [
    "- Features, sometimes called matrix of features, are a collections of gathered data inputted into a machine learning model\n",
    "- Features can be the historical trends of stocks"
   ]
  },
  {
   "cell_type": "markdown",
   "metadata": {},
   "source": [
    " What is the difference between discrete and continuous features?"
   ]
  },
  {
   "cell_type": "markdown",
   "metadata": {},
   "source": [
    "- Discrete data is used in classification models to predict labels or classes \n",
    "  - For example, inputting the colours of flowers and predicting the race of another flower based on its colours\n",
    "- Continuous data is used in regression models to predict the continuous variations\n",
    "  - For example, predicting the height of a flower based on past heights  "
   ]
  },
  {
   "cell_type": "markdown",
   "metadata": {},
   "source": [
    "## Question 15\n",
    "Define the batch learning protocol."
   ]
  },
  {
   "cell_type": "markdown",
   "metadata": {},
   "source": [
    "- Batch learning is a type of machine learning where the model is trained on all of the available data at once. \n",
    "- This is the most common type of machine learning."
   ]
  },
  {
   "cell_type": "markdown",
   "metadata": {},
   "source": [
    "## Question 16\n",
    "Define the online learning protocol."
   ]
  },
  {
   "cell_type": "markdown",
   "metadata": {},
   "source": [
    "- Online learning is a type of machine learning where the model is trained on data that arrives in a stream\n",
    "- For example, stock prices or weather data"
   ]
  },
  {
   "cell_type": "markdown",
   "metadata": {},
   "source": [
    "## Question 17\n",
    "Give two practical examples of batch learning problems."
   ]
  },
  {
   "cell_type": "markdown",
   "metadata": {},
   "source": [
    "1. Training a spam filter\n",
    "2. Training a self-driving car"
   ]
  },
  {
   "cell_type": "markdown",
   "metadata": {},
   "source": [
    "## Question 18\n",
    "Give two practical examples of online learning problems."
   ]
  },
  {
   "cell_type": "markdown",
   "metadata": {},
   "source": [
    "1. Learning to predict the stock market\n",
    "2. Learning to play a video game"
   ]
  },
  {
   "cell_type": "markdown",
   "metadata": {},
   "source": [
    "## Question 19\n",
    "What is meant by exploration and exploitation in machine learning?"
   ]
  },
  {
   "cell_type": "markdown",
   "metadata": {},
   "source": [
    "- **Exploration** is the process of trying new things in order to find out what works best\n",
    "- **Exploitation** is the process of using what you already know to get the best results"
   ]
  },
  {
   "cell_type": "markdown",
   "metadata": {},
   "source": [
    "## Question 20\n",
    "Give the definition of induction in machine learning"
   ]
  },
  {
   "cell_type": "markdown",
   "metadata": {},
   "source": [
    "- **Induction** is the process of using a set of training data to build a model, and then using that model to make predictions on new data"
   ]
  },
  {
   "cell_type": "markdown",
   "metadata": {},
   "source": [
    "## Question 21\n",
    "Give the definition of transduction in machine learning."
   ]
  },
  {
   "cell_type": "markdown",
   "metadata": {},
   "source": [
    "- **Transduction** is the process of using a set of training data to build a model, and then using that model to make predictions on the same set of data."
   ]
  },
  {
   "cell_type": "markdown",
   "metadata": {},
   "source": [
    "## Question 22\n",
    "What is the IID assumption in machine learning?"
   ]
  },
  {
   "cell_type": "markdown",
   "metadata": {},
   "source": [
    "- The IID assumption is that the training data is independent and identically distributed\n",
    "- This means that the data points are independent of each other and that they are all drawn from the same distribution"
   ]
  },
  {
   "cell_type": "markdown",
   "metadata": {},
   "source": [
    "## Question 23\n",
    "What is unsupervised learning?"
   ]
  },
  {
   "cell_type": "markdown",
   "metadata": {},
   "source": [
    "- **Unsupervised learning** is a type of machine learning where the goal is to learn a model from data without any labels or supervision\n",
    "- **Supervised learning** is a type of machine learning where the goal is to learn a model from labeled data"
   ]
  },
  {
   "cell_type": "markdown",
   "metadata": {},
   "source": [
    "## Question 24\n",
    "Give two practical examples of unsupervised learning."
   ]
  },
  {
   "cell_type": "markdown",
   "metadata": {},
   "source": [
    "1. Clustering data points into groups\n",
    "2. Dimensionality reduction"
   ]
  },
  {
   "cell_type": "markdown",
   "metadata": {},
   "source": [
    "## Question 25\n",
    "Define the Euclidean distance between two samples."
   ]
  },
  {
   "cell_type": "markdown",
   "metadata": {},
   "source": [
    "- The **Euclidean distance** between two samples is the straight-line distance between them\n",
    "- Can be worked out using Pythagoras' theorem"
   ]
  },
  {
   "cell_type": "markdown",
   "metadata": {},
   "source": [
    "## Question 26\n",
    "Define the Nearest Neighbour algorithm."
   ]
  },
  {
   "cell_type": "markdown",
   "metadata": {},
   "source": [
    "- The **Nearest Neighbour algorithm** is a method for classification that predicts the label of a new data point by finding the closest data point in the training data and using its label"
   ]
  },
  {
   "cell_type": "markdown",
   "metadata": {},
   "source": [
    "## Question 27\n",
    "Write Python code (or pseudocode) for the Nearest Neighbour algorithm."
   ]
  },
  {
   "cell_type": "markdown",
   "metadata": {},
   "source": [
    "1. For each data point in the test data:\n",
    "2. Find the closest data point in the training data\n",
    "3. Use the label of the training data point\n",
    "4. Return the most common label\n",
    "\n",
    "[Python Code](#k-nearest-neighbour-algorithm)"
   ]
  },
  {
   "cell_type": "markdown",
   "metadata": {},
   "source": [
    "## Question 28\n",
    "What is the difference between the Nearest Neighbour algorithm for classification and the Nearest Neighbour algorithm for regression?"
   ]
  },
  {
   "cell_type": "markdown",
   "metadata": {},
   "source": [
    "- The Nearest Neighbour algorithm for classification predicts the label of a new data point by finding the closest data point in the training data and using its label\n",
    "- The Nearest Neighbour algorithm for regression predicts the value of a new data point by finding the closest data point in the training data and using its value"
   ]
  },
  {
   "cell_type": "markdown",
   "metadata": {},
   "source": [
    "## Question 29\n",
    "Describe the K Nearest Neighbours algorithm for classification."
   ]
  },
  {
   "cell_type": "markdown",
   "metadata": {},
   "source": [
    "- The **K Nearest Neighbours algorithm** for classification predicts the label of a new data point by finding the `K` number of closest data points in the training data and using their labels"
   ]
  },
  {
   "cell_type": "markdown",
   "metadata": {},
   "source": [
    "## Question 30\n",
    "What is meant by positive and negative samples in machine learning?"
   ]
  },
  {
   "cell_type": "markdown",
   "metadata": {},
   "source": [
    "- **Positive samples** are data points that belong to the class that you are trying to predict\n",
    "- **Negative samples** are data points that do not belong to the class that you are trying to predict"
   ]
  },
  {
   "cell_type": "markdown",
   "metadata": {},
   "source": [
    "## Question 31\n",
    "Consider the training set\n",
    "- positive: (1, 2, 3, 0)\n",
    "- positive: (1, 4, 2, 3)\n",
    "- negative: (−2, 3, −4, 3)\n",
    "- negative: (−1, 1, −3, 2)\n",
    "\n",
    "and a test sample (0, 1, 0, 1). Calculate its classification using the K Nearest Neighbours algorithm with Euclidean distance, first for K = 1 and then for K = 3."
   ]
  },
  {
   "cell_type": "markdown",
   "metadata": {},
   "source": [
    "- For `K = 1`, the closest training point is `(1, 2, 3, 0)`, which is positive, so the test point is classified as positive.\n",
    "- For `K = 3`, the closest training points are `(1, 2, 3, 0)`, `(1, 4, 2, 3)`, and `(−2, 3, −4, 3)`, which are two positive and one negative. The majority of the closest points are positive, so the test point is classified as positive."
   ]
  },
  {
   "cell_type": "markdown",
   "metadata": {},
   "source": [
    "## Question 32\n",
    "Describe the K Nearest Neighbours algorithm for regression."
   ]
  },
  {
   "cell_type": "markdown",
   "metadata": {},
   "source": [
    "- The K Nearest Neighbours algorithm for regression predicts the value of a new data point by finding the K closest data points in the training data and using their values"
   ]
  },
  {
   "cell_type": "markdown",
   "metadata": {},
   "source": [
    "## Question 33\n",
    "Consider the following regression problem. The training set is as follows:\n",
    "- positive: (1, 2, 3, 0)\n",
    "- positive: (1, 4, 2, 3)\n",
    "- negative: (−2, 3, −4, 3)\n",
    "- negative: (−1, 1, −3, 2)\n",
    "\n",
    "and a test sample (0, 1, 0, 1). Calculate its classification using the K Nearest Neighbours algorithm with Euclidean distance, first for K = 1 and then for K = 3."
   ]
  },
  {
   "cell_type": "markdown",
   "metadata": {},
   "source": [
    "- For `K = 1`, the closest training point is `(1, 2, 3, 0)`, so the predicted value for the test point is 0.\n",
    "- For `K = 3`, the closest training points are `(1, 2, 3, 0)`, `(1, 4, 2, 3)`, and `(−2, 3, −4, 3)`. The average of the values of these points is `1`, so the predicted value for the test point is `1`."
   ]
  },
  {
   "cell_type": "markdown",
   "metadata": {},
   "source": [
    "## Question 34\n",
    "Consider the following training set: crosses at −4, −3, −2, and −1; noughts at 2, 4, 6, and 8. Sometimes the prediction obtained using the 1 Nearest Neighbour algorithm is different from the prediction obtained using the 3 Nearest Neighbours algorithm. For the given training set above, find the maximal interval for the new test point where the two\n",
    "predictions would be different."
   ]
  },
  {
   "cell_type": "markdown",
   "metadata": {},
   "source": [
    "- The two predictions would be different for values of the new test point between -1 and 2.\n",
    "- The 1NN prediction would be \"cross\", while the 3NN prediction would be \"nought\"\n",
    "  - This is because there are more noughts than crosses in the training data, so the 3NN algorithm would predict the majority class, which is nought."
   ]
  },
  {
   "cell_type": "markdown",
   "metadata": {},
   "source": [
    "## Question 35\n",
    "Consider the training set\n",
    "| Sample  | Classification  |\n",
    "| -----------  | -----------  |\n",
    "| 0 | +1|\n",
    "| 2 | -1 |\n",
    "| 6 | +1 |\n",
    "| 10 | -1 |"
   ]
  },
  {
   "cell_type": "markdown",
   "metadata": {},
   "source": [
    "### Part A\n",
    "Draw the training samples on the straight line and highlight the regions of test samples that are classified as positive by the Nearest Neighbour algorithm."
   ]
  },
  {
   "cell_type": "markdown",
   "metadata": {},
   "source": [
    "### Part B\n",
    "Highlight the regions of test samples that are classified as negative by the 3 Nearest Neighbours algorithm."
   ]
  },
  {
   "cell_type": "markdown",
   "metadata": {},
   "source": [
    "## Question 36\n",
    "Would you classify the K Nearest Neighbours algorithm as induction or transduction? Explain briefly why."
   ]
  },
  {
   "cell_type": "markdown",
   "metadata": {},
   "source": [
    "- The K Nearest Neighbours algorithm is classified as transduction because it makes predictions on the same set of data that it was trained on."
   ]
  },
  {
   "cell_type": "markdown",
   "metadata": {},
   "source": [
    "## Question 37\n",
    "What is the computational complexity of the K Nearest Neighbours algorithm? Give a brief explanation."
   ]
  },
  {
   "cell_type": "markdown",
   "metadata": {},
   "source": [
    "- The computational complexity of the K Nearest Neighbours algorithm is O(N * K), where N is the number of data points and K is the number of closest data points. This is because the algorithm has to compute the distance between the new data point and all of the training data points."
   ]
  },
  {
   "cell_type": "markdown",
   "metadata": {},
   "source": [
    "## Question 38\n",
    "Give three examples of distances that can be used in the K Nearest Neighbours algorithm."
   ]
  },
  {
   "cell_type": "markdown",
   "metadata": {},
   "source": [
    "1. Euclidean distance\n",
    "2. Manhattan distance\n",
    "3. Cosine similarity"
   ]
  },
  {
   "cell_type": "markdown",
   "metadata": {},
   "source": [
    "## Question 39\n",
    "Give three examples of practical application of the K Nearest Neighbours algorithm."
   ]
  },
  {
   "cell_type": "markdown",
   "metadata": {},
   "source": [
    "1. Classifying whether an email is spam or not spam\n",
    "2. Classifying whether a tumor is benign or malignant\n",
    "3. Predicting the price of a stock"
   ]
  },
  {
   "cell_type": "markdown",
   "metadata": {},
   "source": [
    "## Question 40\n",
    "Give two advantages and two disadvantages of the K Nearest Neighbours algorithm."
   ]
  },
  {
   "cell_type": "markdown",
   "metadata": {},
   "source": [
    "*Advantages:*\n",
    "- Simple to implement\n",
    "- Works with any number of classes\n",
    "\n",
    "*Disadvantages:*\n",
    "- Can be slow for large datasets\n",
    "- Can be sensitive to outliers"
   ]
  }
 ],
 "metadata": {
  "kernelspec": {
   "display_name": "Python 3.9.12 ('base')",
   "language": "python",
   "name": "python3"
  },
  "language_info": {
   "codemirror_mode": {
    "name": "ipython",
    "version": 3
   },
   "file_extension": ".py",
   "mimetype": "text/x-python",
   "name": "python",
   "nbconvert_exporter": "python",
   "pygments_lexer": "ipython3",
   "version": "3.9.12"
  },
  "orig_nbformat": 4,
  "vscode": {
   "interpreter": {
    "hash": "9a317dd932dec76e8fdc8987ca60af4062f347c78c20ca5292cf26c8b2836138"
   }
  }
 },
 "nbformat": 4,
 "nbformat_minor": 2
}
