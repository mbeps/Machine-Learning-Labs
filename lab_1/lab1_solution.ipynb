{
	"cells": [
		{
			"cell_type": "markdown",
			"metadata": {},
			"source": [
				"# Lab 1"
			]
		},
		{
			"cell_type": "code",
			"execution_count": null,
			"metadata": {},
			"outputs": [],
			"source": [
				"import numpy as np\n",
				"x = np.array([[1,2,3], [4,5,6]])\n",
				"x"
			]
		},
		{
			"cell_type": "code",
			"execution_count": null,
			"metadata": {},
			"outputs": [],
			"source": [
				"%matplotlib inline\n",
				"import matplotlib.pyplot as plt\n",
				"# Generate a sequence of integers\n",
				"x = np.arange(20)\n",
				"# create a second array using sinus\n",
				"y = np.sin(x)\n",
				"# The plot function makes a line chart of one array against another\n",
				"plt.plot(x,y,marker=\"x\")"
			]
		},
		{
			"cell_type": "code",
			"execution_count": null,
			"metadata": {},
			"outputs": [],
			"source": [
				"from sklearn.datasets import load_iris\n",
				"iris = load_iris()"
			]
		},
		{
			"cell_type": "markdown",
			"metadata": {},
			"source": [
				"Now the iris data set has been loaded and we can work on it."
			]
		},
		{
			"cell_type": "code",
			"execution_count": null,
			"metadata": {},
			"outputs": [],
			"source": [
				"iris.keys()"
			]
		},
		{
			"cell_type": "code",
			"execution_count": null,
			"metadata": {},
			"outputs": [],
			"source": [
				"print(iris['DESCR'])"
			]
		},
		{
			"cell_type": "code",
			"execution_count": null,
			"metadata": {},
			"outputs": [],
			"source": [
				"iris['target_names']"
			]
		},
		{
			"cell_type": "code",
			"execution_count": null,
			"metadata": {},
			"outputs": [],
			"source": [
				"print(iris['target_names'])"
			]
		},
		{
			"cell_type": "code",
			"execution_count": null,
			"metadata": {},
			"outputs": [],
			"source": [
				"iris['feature_names']"
			]
		},
		{
			"cell_type": "code",
			"execution_count": null,
			"metadata": {},
			"outputs": [],
			"source": [
				"type(iris['data'])"
			]
		},
		{
			"cell_type": "code",
			"execution_count": null,
			"metadata": {},
			"outputs": [],
			"source": [
				"iris['data'].shape"
			]
		},
		{
			"cell_type": "code",
			"execution_count": null,
			"metadata": {},
			"outputs": [],
			"source": [
				"iris['data'][:3]"
			]
		},
		{
			"cell_type": "code",
			"execution_count": null,
			"metadata": {},
			"outputs": [],
			"source": [
				"type(iris['target'])"
			]
		},
		{
			"cell_type": "code",
			"execution_count": null,
			"metadata": {},
			"outputs": [],
			"source": [
				"iris['target'].shape"
			]
		},
		{
			"cell_type": "code",
			"execution_count": null,
			"metadata": {},
			"outputs": [],
			"source": [
				"iris['target']"
			]
		},
		{
			"cell_type": "code",
			"execution_count": null,
			"metadata": {},
			"outputs": [],
			"source": [
				"X = iris['data']\n",
				"y = iris['target']\n",
				"\n",
				"plt.scatter(X[:,0], X[:,2], c=y, s=60)"
			]
		},
		{
			"cell_type": "code",
			"execution_count": null,
			"metadata": {},
			"outputs": [],
			"source": [
				"fig, ax = plt.subplots(3, 3, figsize=(15, 15))\n",
				"plt.suptitle(\"iris_pairplot\")\n",
				"\n",
				"for i in range(3):\n",
				"  for j in range(3):\n",
				"    ax[i,j].scatter(X[:,j], X[:,i+1], c=y, s=60)\n",
				"    ax[i,j].set_xticks(())\n",
				"    ax[i,j].set_yticks(())\n",
				"    if i==2:\n",
				"      ax[i,j].set_xlabel(iris['feature_names'][j])\n",
				"    if j==0:\n",
				"      ax[i,j].set_ylabel(iris['feature_names'][i+1])\n",
				"    if j>i:\n",
				"      ax[i,j].set_visible(False)"
			]
		},
		{
			"cell_type": "markdown",
			"metadata": {},
			"source": [
				"## Exercises"
			]
		},
		{
			"cell_type": "markdown",
			"metadata": {},
			"source": [
				"The lab supervisors check your Jupyter notebooks to make sure that all students engage with the labs and course in general.  We check not only the exercises but also the code in the main part of the worksheet (before the exercises)."
			]
		},
		{
			"cell_type": "markdown",
			"metadata": {},
			"source": [
				"### Exercise 1"
			]
		},
		{
			"cell_type": "markdown",
			"metadata": {},
			"source": [
				"You can draw plots similar to that in \"In [15]:\" or can just consult the composite plot in \"In [16]:\".  The pair (0,2) (which is (sepal length, sepal width)), is fairly good, although (pertal length, petal width) looks even better to me."
			]
		},
		{
			"cell_type": "markdown",
			"metadata": {},
			"source": [
				"### Exercise 2"
			]
		},
		{
			"cell_type": "markdown",
			"metadata": {},
			"source": [
				"You should explain that the double loop goes over 16 plots (scatter plots of feature i vs feature j) but not all of them are made visible to avoid redundacy (in particular, feature i vs feature i are avoided).  There are if statements that ensure that not all axes are labelled.  It's good to have an explanation of xticks and yticks."
			]
		},
		{
			"cell_type": "markdown",
			"metadata": {},
			"source": [
				"### Exercise 3"
			]
		},
		{
			"cell_type": "markdown",
			"metadata": {},
			"source": [
				"There is no need to repeat the code given above, of course (but I will do it)."
			]
		},
		{
			"cell_type": "code",
			"execution_count": null,
			"metadata": {},
			"outputs": [],
			"source": [
				"import numpy as np\n",
				"x = np.array([[1,2,3],[4,5,6]])\n",
				"x"
			]
		},
		{
			"cell_type": "code",
			"execution_count": null,
			"metadata": {},
			"outputs": [],
			"source": [
				"x[0,0]"
			]
		},
		{
			"cell_type": "code",
			"execution_count": null,
			"metadata": {},
			"outputs": [],
			"source": [
				"x[0,1]"
			]
		},
		{
			"cell_type": "code",
			"execution_count": null,
			"metadata": {},
			"outputs": [],
			"source": [
				"x = np.arange(10)\n",
				"x[2]"
			]
		},
		{
			"cell_type": "code",
			"execution_count": null,
			"metadata": {},
			"outputs": [],
			"source": [
				"x[-2]"
			]
		},
		{
			"cell_type": "code",
			"execution_count": null,
			"metadata": {},
			"outputs": [],
			"source": [
				"range(10)"
			]
		},
		{
			"cell_type": "code",
			"execution_count": null,
			"metadata": {},
			"outputs": [],
			"source": [
				"x = int(input(\"Please enter an integer: \"))\n",
				"if x < 0:\n",
				"  x = 0\n",
				"  print('Negative changed to zero')\n",
				"elif x == 0:\n",
				"  print('Zero')\n",
				"elif x == 1:\n",
				"  print('Single')\n",
				"else:\n",
				"  print('More')"
			]
		},
		{
			"cell_type": "code",
			"execution_count": null,
			"metadata": {},
			"outputs": [],
			"source": [
				"for i in range(3):\n",
				"  print(i)"
			]
		},
		{
			"cell_type": "code",
			"execution_count": null,
			"metadata": {},
			"outputs": [],
			"source": []
		}
	],
	"metadata": {
		"kernelspec": {
			"display_name": "Python 3.9.12 ('base')",
			"language": "python",
			"name": "python3"
		},
		"language_info": {
			"codemirror_mode": {
				"name": "ipython",
				"version": 3
			},
			"file_extension": ".py",
			"mimetype": "text/x-python",
			"name": "python",
			"nbconvert_exporter": "python",
			"pygments_lexer": "ipython3",
			"version": "3.9.12"
		},
		"vscode": {
			"interpreter": {
				"hash": "9a317dd932dec76e8fdc8987ca60af4062f347c78c20ca5292cf26c8b2836138"
			}
		}
	},
	"nbformat": 4,
	"nbformat_minor": 2
}
